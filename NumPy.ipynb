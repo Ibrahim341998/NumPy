{
  "nbformat": 4,
  "nbformat_minor": 0,
  "metadata": {
    "colab": {
      "name": "NumPy.ipynb",
      "provenance": [],
      "collapsed_sections": [],
      "authorship_tag": "ABX9TyOkgxT4XF05ft6r/0htxHGR",
      "include_colab_link": true
    },
    "kernelspec": {
      "name": "python3",
      "display_name": "Python 3"
    },
    "language_info": {
      "name": "python"
    }
  },
  "cells": [
    {
      "cell_type": "markdown",
      "metadata": {
        "id": "view-in-github",
        "colab_type": "text"
      },
      "source": [
        "<a href=\"https://colab.research.google.com/github/Ibrahim341998/NumPy/blob/main/NumPy.ipynb\" target=\"_parent\"><img src=\"https://colab.research.google.com/assets/colab-badge.svg\" alt=\"Open In Colab\"/></a>"
      ]
    },
    {
      "cell_type": "code",
      "execution_count": 1,
      "metadata": {
        "id": "yiyEYiWbmho_"
      },
      "outputs": [],
      "source": [
        "# To install this library in cmd or apple cmd\n",
        "# pip install numpy"
      ]
    },
    {
      "cell_type": "code",
      "source": [
        "# To import this library\n",
        "import numpy as np\n",
        "\n",
        "# How to create numpy array\n",
        "arr_1d = np.array([1,2,3])\n",
        "print(arr_1d)"
      ],
      "metadata": {
        "colab": {
          "base_uri": "https://localhost:8080/"
        },
        "id": "uwmRtK_tju9w",
        "outputId": "4bc58500-4f14-42fe-c785-5b14476fd25b"
      },
      "execution_count": 2,
      "outputs": [
        {
          "output_type": "stream",
          "name": "stdout",
          "text": [
            "[1 2 3]\n"
          ]
        }
      ]
    },
    {
      "cell_type": "code",
      "source": [
        "# To determine the type of arr_1d\n",
        "type(arr_1d)"
      ],
      "metadata": {
        "colab": {
          "base_uri": "https://localhost:8080/"
        },
        "id": "S8Ot_0vGkc1X",
        "outputId": "7dfce295-84f1-45e1-f549-6af0d983d580"
      },
      "execution_count": 3,
      "outputs": [
        {
          "output_type": "execute_result",
          "data": {
            "text/plain": [
              "numpy.ndarray"
            ]
          },
          "metadata": {},
          "execution_count": 3
        }
      ]
    },
    {
      "cell_type": "code",
      "source": [
        "# To find the dimensionality of the array\n",
        "arr_1d.ndim"
      ],
      "metadata": {
        "colab": {
          "base_uri": "https://localhost:8080/"
        },
        "id": "VVV_QHxolR-_",
        "outputId": "d0411ad9-e5d7-4bba-c317-1189b2e58658"
      },
      "execution_count": 4,
      "outputs": [
        {
          "output_type": "execute_result",
          "data": {
            "text/plain": [
              "1"
            ]
          },
          "metadata": {},
          "execution_count": 4
        }
      ]
    },
    {
      "cell_type": "code",
      "source": [
        "# To create the 2D array or List\n",
        "arr_2d = np.array([[1,2,3],\n",
        "          [1,2,3],\n",
        "          [1,2,3]])\n",
        "print(arr_2d)"
      ],
      "metadata": {
        "colab": {
          "base_uri": "https://localhost:8080/"
        },
        "id": "QbL0V2dtlf_E",
        "outputId": "1bcb8c12-427a-413d-f234-a058a97637ff"
      },
      "execution_count": 5,
      "outputs": [
        {
          "output_type": "stream",
          "name": "stdout",
          "text": [
            "[[1 2 3]\n",
            " [1 2 3]\n",
            " [1 2 3]]\n"
          ]
        }
      ]
    },
    {
      "cell_type": "code",
      "source": [
        "arr_2d.ndim"
      ],
      "metadata": {
        "colab": {
          "base_uri": "https://localhost:8080/"
        },
        "id": "E_Evr_EfmK_8",
        "outputId": "7f759a73-829e-419e-bc71-fd9c30324eec"
      },
      "execution_count": 6,
      "outputs": [
        {
          "output_type": "execute_result",
          "data": {
            "text/plain": [
              "2"
            ]
          },
          "metadata": {},
          "execution_count": 6
        }
      ]
    },
    {
      "cell_type": "code",
      "source": [
        "arr_1d.size"
      ],
      "metadata": {
        "colab": {
          "base_uri": "https://localhost:8080/"
        },
        "id": "TKR653hbnO26",
        "outputId": "f378e630-a243-44bc-b649-60fbe0c5f4b3"
      },
      "execution_count": 7,
      "outputs": [
        {
          "output_type": "execute_result",
          "data": {
            "text/plain": [
              "3"
            ]
          },
          "metadata": {},
          "execution_count": 7
        }
      ]
    },
    {
      "cell_type": "code",
      "source": [
        "arr_2d.size"
      ],
      "metadata": {
        "colab": {
          "base_uri": "https://localhost:8080/"
        },
        "id": "4-j2AU-4nUQs",
        "outputId": "580035c2-7a7d-4a88-c33d-0c4c54a9f4d9"
      },
      "execution_count": 8,
      "outputs": [
        {
          "output_type": "execute_result",
          "data": {
            "text/plain": [
              "9"
            ]
          },
          "metadata": {},
          "execution_count": 8
        }
      ]
    },
    {
      "cell_type": "code",
      "source": [
        "# To determine the rows and column in array\n",
        "arr_2d.shape"
      ],
      "metadata": {
        "colab": {
          "base_uri": "https://localhost:8080/"
        },
        "id": "3hzrR3b9nXu2",
        "outputId": "43c6bfc3-9405-4e46-8709-b082b6727970"
      },
      "execution_count": 9,
      "outputs": [
        {
          "output_type": "execute_result",
          "data": {
            "text/plain": [
              "(3, 3)"
            ]
          },
          "metadata": {},
          "execution_count": 9
        }
      ]
    },
    {
      "cell_type": "code",
      "source": [
        "# To determine the data type of array\n",
        "arr_2d.dtype"
      ],
      "metadata": {
        "colab": {
          "base_uri": "https://localhost:8080/"
        },
        "id": "ponG7ZWqnsy3",
        "outputId": "ed52066f-16a5-4660-e0f2-222176b599b8"
      },
      "execution_count": 10,
      "outputs": [
        {
          "output_type": "execute_result",
          "data": {
            "text/plain": [
              "dtype('int64')"
            ]
          },
          "metadata": {},
          "execution_count": 10
        }
      ]
    },
    {
      "cell_type": "code",
      "source": [
        "# To create 1s matrix in an array\n",
        "max_1s = np.array([[1,1,1], [1,1,1], [1,1,1]])\n",
        "print(max_1s)\n",
        "# So for small case this fine but in long term it will not work. so we have ones function."
      ],
      "metadata": {
        "colab": {
          "base_uri": "https://localhost:8080/"
        },
        "id": "FtM6b26in_Q7",
        "outputId": "e0c4f451-c86c-419f-f0ac-bf5bc85c7d9e"
      },
      "execution_count": 11,
      "outputs": [
        {
          "output_type": "stream",
          "name": "stdout",
          "text": [
            "[[1 1 1]\n",
            " [1 1 1]\n",
            " [1 1 1]]\n"
          ]
        }
      ]
    },
    {
      "cell_type": "code",
      "source": [
        "max_1s = np.ones(5)\n",
        "print(max_1s)"
      ],
      "metadata": {
        "colab": {
          "base_uri": "https://localhost:8080/"
        },
        "id": "srhMNVz9TRNw",
        "outputId": "4a3266ea-76de-472a-d60c-5b252c9cc001"
      },
      "execution_count": 12,
      "outputs": [
        {
          "output_type": "stream",
          "name": "stdout",
          "text": [
            "[1. 1. 1. 1. 1.]\n"
          ]
        }
      ]
    },
    {
      "cell_type": "code",
      "source": [
        "max_1s.dtype"
      ],
      "metadata": {
        "colab": {
          "base_uri": "https://localhost:8080/"
        },
        "id": "-ZW8xPQJT9Rr",
        "outputId": "22106798-df22-47ab-f837-8aa298666241"
      },
      "execution_count": 13,
      "outputs": [
        {
          "output_type": "execute_result",
          "data": {
            "text/plain": [
              "dtype('float64')"
            ]
          },
          "metadata": {},
          "execution_count": 13
        }
      ]
    },
    {
      "cell_type": "code",
      "source": [
        "# This was for having single row and multiple column. so we need todo for multiple row and multiple column.\n",
        "mx_1s = np.ones((3, 4))\n",
        "print(mx_1s)"
      ],
      "metadata": {
        "colab": {
          "base_uri": "https://localhost:8080/"
        },
        "id": "JF4qX-KNUDTD",
        "outputId": "55ae1967-58f2-4389-f2e6-f393c6bc09f5"
      },
      "execution_count": 14,
      "outputs": [
        {
          "output_type": "stream",
          "name": "stdout",
          "text": [
            "[[1. 1. 1. 1.]\n",
            " [1. 1. 1. 1.]\n",
            " [1. 1. 1. 1.]]\n"
          ]
        }
      ]
    },
    {
      "cell_type": "code",
      "source": [
        "# To change the datatype of the matrix\n",
        "mx_1s = np.ones((3,4), dtype=int)\n",
        "print(mx_1s) "
      ],
      "metadata": {
        "colab": {
          "base_uri": "https://localhost:8080/"
        },
        "id": "tiBh4z5SUxkp",
        "outputId": "2c5795e2-016c-45d8-8d03-4270f3a47adf"
      },
      "execution_count": 15,
      "outputs": [
        {
          "output_type": "stream",
          "name": "stdout",
          "text": [
            "[[1 1 1 1]\n",
            " [1 1 1 1]\n",
            " [1 1 1 1]]\n"
          ]
        }
      ]
    },
    {
      "cell_type": "code",
      "source": [
        "# Similarily goes for zeros\n",
        "mx_zeroes = np.zeros((4,6), dtype=int)\n",
        "print(mx_zeroes)"
      ],
      "metadata": {
        "colab": {
          "base_uri": "https://localhost:8080/"
        },
        "id": "Mjlw5GbSWIcv",
        "outputId": "c0154da0-1507-4388-ead5-dd2b4d992f72"
      },
      "execution_count": 16,
      "outputs": [
        {
          "output_type": "stream",
          "name": "stdout",
          "text": [
            "[[0 0 0 0 0 0]\n",
            " [0 0 0 0 0 0]\n",
            " [0 0 0 0 0 0]\n",
            " [0 0 0 0 0 0]]\n"
          ]
        }
      ]
    },
    {
      "cell_type": "code",
      "source": [
        "# we can convert our datatype to boolean as well\n",
        "mx_zeroes = np.zeros((4,6), dtype=bool)\n",
        "print(mx_zeroes)"
      ],
      "metadata": {
        "colab": {
          "base_uri": "https://localhost:8080/"
        },
        "id": "EjxW7jNUWnJc",
        "outputId": "0712387b-e92d-465b-b3fb-5bccb4070326"
      },
      "execution_count": 17,
      "outputs": [
        {
          "output_type": "stream",
          "name": "stdout",
          "text": [
            "[[False False False False False False]\n",
            " [False False False False False False]\n",
            " [False False False False False False]\n",
            " [False False False False False False]]\n"
          ]
        }
      ]
    },
    {
      "cell_type": "code",
      "source": [
        "mx_0s = np.zeros((4,6), dtype=str)\n",
        "print(mx_0s)"
      ],
      "metadata": {
        "colab": {
          "base_uri": "https://localhost:8080/"
        },
        "id": "iD3XiJcRW9cc",
        "outputId": "84abf0d8-8b8d-42d3-b4f8-b3bb2f8c9ecf"
      },
      "execution_count": 18,
      "outputs": [
        {
          "output_type": "stream",
          "name": "stdout",
          "text": [
            "[['' '' '' '' '' '']\n",
            " ['' '' '' '' '' '']\n",
            " ['' '' '' '' '' '']\n",
            " ['' '' '' '' '' '']]\n"
          ]
        }
      ]
    },
    {
      "cell_type": "code",
      "source": [
        "em_mx = np.empty((3,3))\n",
        "print(em_mx)"
      ],
      "metadata": {
        "colab": {
          "base_uri": "https://localhost:8080/"
        },
        "id": "YWak3d0lXYRL",
        "outputId": "39a3fa52-09c1-4dff-bf9d-a65f8f5423e5"
      },
      "execution_count": 19,
      "outputs": [
        {
          "output_type": "stream",
          "name": "stdout",
          "text": [
            "[[5.e-324 5.e-324 5.e-324]\n",
            " [5.e-324 5.e-324 5.e-324]\n",
            " [5.e-324 5.e-324 5.e-324]]\n"
          ]
        }
      ]
    },
    {
      "cell_type": "markdown",
      "source": [
        "# NumPy Functions"
      ],
      "metadata": {
        "id": "QIBsBtoEYsqk"
      }
    },
    {
      "cell_type": "code",
      "source": [
        "# import numpy as np"
      ],
      "metadata": {
        "id": "TVOhqZy6X34T"
      },
      "execution_count": 20,
      "outputs": []
    },
    {
      "cell_type": "markdown",
      "source": [
        "# arange()"
      ],
      "metadata": {
        "id": "eL8G8Vq5ZWJx"
      }
    },
    {
      "cell_type": "code",
      "source": [
        "# np.arange(start, End, steps)\n",
        "ar_1d = np.arange(1, 13)\n",
        "# for even arange\n",
        "even_ar = np.arange(1, 13, 2)\n",
        "print(\"ar_1d = \",ar_1d)\n",
        "print(\"even_ar = \",even_ar)"
      ],
      "metadata": {
        "colab": {
          "base_uri": "https://localhost:8080/"
        },
        "id": "PppwbQw7ZM7A",
        "outputId": "8a06b249-fce7-4f72-edbb-21dfb914093f"
      },
      "execution_count": 21,
      "outputs": [
        {
          "output_type": "stream",
          "name": "stdout",
          "text": [
            "ar_1d =  [ 1  2  3  4  5  6  7  8  9 10 11 12]\n",
            "even_ar =  [ 1  3  5  7  9 11]\n"
          ]
        }
      ]
    },
    {
      "cell_type": "markdown",
      "source": [
        "# linspace()\n"
      ],
      "metadata": {
        "id": "Nt6NudB0ZuG0"
      }
    },
    {
      "cell_type": "code",
      "source": [
        "np.linspace(1,5,4)"
      ],
      "metadata": {
        "colab": {
          "base_uri": "https://localhost:8080/"
        },
        "id": "83tkyY6xZrd5",
        "outputId": "6a71d67b-6a1f-4ce1-83b5-4f41f9719eb3"
      },
      "execution_count": 22,
      "outputs": [
        {
          "output_type": "execute_result",
          "data": {
            "text/plain": [
              "array([1.        , 2.33333333, 3.66666667, 5.        ])"
            ]
          },
          "metadata": {},
          "execution_count": 22
        }
      ]
    },
    {
      "cell_type": "markdown",
      "source": [
        "# reshape()"
      ],
      "metadata": {
        "id": "pnE3yGYnaxO7"
      }
    },
    {
      "cell_type": "code",
      "source": [
        "# to convert 1d array to 2d array\n",
        "ar_2d = ar_1d.reshape(3,4)\n",
        "print(ar_2d)"
      ],
      "metadata": {
        "colab": {
          "base_uri": "https://localhost:8080/"
        },
        "id": "A-Bzzf9iasJW",
        "outputId": "5f2ae648-f680-433e-8def-0c9e45cd17fc"
      },
      "execution_count": 23,
      "outputs": [
        {
          "output_type": "stream",
          "name": "stdout",
          "text": [
            "[[ 1  2  3  4]\n",
            " [ 5  6  7  8]\n",
            " [ 9 10 11 12]]\n"
          ]
        }
      ]
    },
    {
      "cell_type": "code",
      "source": [
        "# to convert 1d array to 3d array\n",
        "ar_3d = ar_1d.reshape(2,3,2)\n",
        "print(ar_3d)"
      ],
      "metadata": {
        "colab": {
          "base_uri": "https://localhost:8080/"
        },
        "id": "KsgHOV9gbrNO",
        "outputId": "5b97a03c-ed17-430b-88bf-2c92dc761f88"
      },
      "execution_count": 24,
      "outputs": [
        {
          "output_type": "stream",
          "name": "stdout",
          "text": [
            "[[[ 1  2]\n",
            "  [ 3  4]\n",
            "  [ 5  6]]\n",
            "\n",
            " [[ 7  8]\n",
            "  [ 9 10]\n",
            "  [11 12]]]\n"
          ]
        }
      ]
    },
    {
      "cell_type": "markdown",
      "source": [
        "# ravel()"
      ],
      "metadata": {
        "id": "tzU5guKIhIDW"
      }
    },
    {
      "cell_type": "code",
      "source": [
        "# Converts multidimensional array to 1d array\n"
      ],
      "metadata": {
        "id": "IEnZzZFGf8e5"
      },
      "execution_count": 24,
      "outputs": []
    }
  ]
}