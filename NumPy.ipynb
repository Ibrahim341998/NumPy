{
  "nbformat": 4,
  "nbformat_minor": 0,
  "metadata": {
    "colab": {
      "name": "NumPy.ipynb",
      "provenance": [],
      "authorship_tag": "ABX9TyM+jyHIsXUWITUr9+Zy//+5",
      "include_colab_link": true
    },
    "kernelspec": {
      "name": "python3",
      "display_name": "Python 3"
    },
    "language_info": {
      "name": "python"
    }
  },
  "cells": [
    {
      "cell_type": "markdown",
      "metadata": {
        "id": "view-in-github",
        "colab_type": "text"
      },
      "source": [
        "<a href=\"https://colab.research.google.com/github/Ibrahim341998/NumPy/blob/main/NumPy.ipynb\" target=\"_parent\"><img src=\"https://colab.research.google.com/assets/colab-badge.svg\" alt=\"Open In Colab\"/></a>"
      ]
    },
    {
      "cell_type": "code",
      "execution_count": 1,
      "metadata": {
        "id": "yiyEYiWbmho_"
      },
      "outputs": [],
      "source": [
        "# To install this library in cmd or apple cmd\n",
        "# pip install numpy"
      ]
    },
    {
      "cell_type": "code",
      "source": [
        "# To import this library\n",
        "import numpy as np\n",
        "\n",
        "# How to create numpy array\n",
        "arr_1d = np.array([1,2,3])\n",
        "print(arr_1d)"
      ],
      "metadata": {
        "colab": {
          "base_uri": "https://localhost:8080/"
        },
        "id": "uwmRtK_tju9w",
        "outputId": "c6813684-ae96-4299-c18f-b7b4fa9f7f25"
      },
      "execution_count": 2,
      "outputs": [
        {
          "output_type": "stream",
          "name": "stdout",
          "text": [
            "[1 2 3]\n"
          ]
        }
      ]
    },
    {
      "cell_type": "code",
      "source": [
        "# To determine the type of arr_1d\n",
        "type(arr_1d)"
      ],
      "metadata": {
        "colab": {
          "base_uri": "https://localhost:8080/"
        },
        "id": "S8Ot_0vGkc1X",
        "outputId": "c31b9da8-8277-462f-e3ec-24309b482b91"
      },
      "execution_count": 3,
      "outputs": [
        {
          "output_type": "execute_result",
          "data": {
            "text/plain": [
              "numpy.ndarray"
            ]
          },
          "metadata": {},
          "execution_count": 3
        }
      ]
    },
    {
      "cell_type": "code",
      "source": [
        "# To find the dimensionality of the array\n",
        "arr_1d.ndim"
      ],
      "metadata": {
        "colab": {
          "base_uri": "https://localhost:8080/"
        },
        "id": "VVV_QHxolR-_",
        "outputId": "0bb9ec77-f785-4163-cea5-2b24affd2d23"
      },
      "execution_count": 4,
      "outputs": [
        {
          "output_type": "execute_result",
          "data": {
            "text/plain": [
              "1"
            ]
          },
          "metadata": {},
          "execution_count": 4
        }
      ]
    },
    {
      "cell_type": "code",
      "source": [
        "# To create the 2D array or List\n",
        "arr_2d = np.array([[1,2,3],\n",
        "          [1,2,3],\n",
        "          [1,2,3]])\n",
        "print(arr_2d)"
      ],
      "metadata": {
        "colab": {
          "base_uri": "https://localhost:8080/"
        },
        "id": "QbL0V2dtlf_E",
        "outputId": "ccc2b9c9-0cc4-476a-cb34-22711b0541c8"
      },
      "execution_count": 5,
      "outputs": [
        {
          "output_type": "stream",
          "name": "stdout",
          "text": [
            "[[1 2 3]\n",
            " [1 2 3]\n",
            " [1 2 3]]\n"
          ]
        }
      ]
    },
    {
      "cell_type": "code",
      "source": [
        "arr_2d.ndim"
      ],
      "metadata": {
        "colab": {
          "base_uri": "https://localhost:8080/"
        },
        "id": "E_Evr_EfmK_8",
        "outputId": "0f1d7876-f7b8-4897-d5d6-25b7d9ab2708"
      },
      "execution_count": 6,
      "outputs": [
        {
          "output_type": "execute_result",
          "data": {
            "text/plain": [
              "2"
            ]
          },
          "metadata": {},
          "execution_count": 6
        }
      ]
    },
    {
      "cell_type": "code",
      "source": [
        "arr_1d.size"
      ],
      "metadata": {
        "colab": {
          "base_uri": "https://localhost:8080/"
        },
        "id": "TKR653hbnO26",
        "outputId": "3d8ca980-a2bc-48ea-d3cd-98b4084d2aa6"
      },
      "execution_count": 7,
      "outputs": [
        {
          "output_type": "execute_result",
          "data": {
            "text/plain": [
              "3"
            ]
          },
          "metadata": {},
          "execution_count": 7
        }
      ]
    },
    {
      "cell_type": "code",
      "source": [
        "arr_2d.size"
      ],
      "metadata": {
        "colab": {
          "base_uri": "https://localhost:8080/"
        },
        "id": "4-j2AU-4nUQs",
        "outputId": "08c2bd13-d266-497d-c65f-68962d7673c1"
      },
      "execution_count": 8,
      "outputs": [
        {
          "output_type": "execute_result",
          "data": {
            "text/plain": [
              "9"
            ]
          },
          "metadata": {},
          "execution_count": 8
        }
      ]
    },
    {
      "cell_type": "code",
      "source": [
        "# To determine the rows and column in array\n",
        "arr_2d.shape"
      ],
      "metadata": {
        "colab": {
          "base_uri": "https://localhost:8080/"
        },
        "id": "3hzrR3b9nXu2",
        "outputId": "e9fe7315-655b-455a-ac1d-a0daf5600c8d"
      },
      "execution_count": 9,
      "outputs": [
        {
          "output_type": "execute_result",
          "data": {
            "text/plain": [
              "(3, 3)"
            ]
          },
          "metadata": {},
          "execution_count": 9
        }
      ]
    },
    {
      "cell_type": "code",
      "source": [
        "# To determine the data type of array\n",
        "arr_2d.dtype"
      ],
      "metadata": {
        "colab": {
          "base_uri": "https://localhost:8080/"
        },
        "id": "ponG7ZWqnsy3",
        "outputId": "b32746d8-4bb1-4c7f-cd12-58b5665540f7"
      },
      "execution_count": 10,
      "outputs": [
        {
          "output_type": "execute_result",
          "data": {
            "text/plain": [
              "dtype('int64')"
            ]
          },
          "metadata": {},
          "execution_count": 10
        }
      ]
    },
    {
      "cell_type": "code",
      "source": [
        "# To create 1s matrix in an array\n",
        "max_1s = np.array([[1,1,1], [1,1,1], [1,1,1]])\n",
        "print(max_1s)\n",
        "# So for small case this fine but in long term it will not work. so we have ones function."
      ],
      "metadata": {
        "colab": {
          "base_uri": "https://localhost:8080/"
        },
        "id": "FtM6b26in_Q7",
        "outputId": "13d63e6d-0a20-416b-c4bc-37d5cb38ee09"
      },
      "execution_count": 14,
      "outputs": [
        {
          "output_type": "stream",
          "name": "stdout",
          "text": [
            "[[1 1 1]\n",
            " [1 1 1]\n",
            " [1 1 1]]\n"
          ]
        }
      ]
    },
    {
      "cell_type": "code",
      "source": [
        "max_1s = np.ones(5)\n",
        "print(max_1s)"
      ],
      "metadata": {
        "colab": {
          "base_uri": "https://localhost:8080/"
        },
        "id": "srhMNVz9TRNw",
        "outputId": "d95c88a2-de64-40d0-b5b9-b79065501576"
      },
      "execution_count": 12,
      "outputs": [
        {
          "output_type": "stream",
          "name": "stdout",
          "text": [
            "[1. 1. 1. 1. 1.]\n"
          ]
        }
      ]
    },
    {
      "cell_type": "code",
      "source": [
        "max_1s.dtype"
      ],
      "metadata": {
        "colab": {
          "base_uri": "https://localhost:8080/"
        },
        "id": "-ZW8xPQJT9Rr",
        "outputId": "f7ff117c-39c1-4115-eee3-b03f7b180e75"
      },
      "execution_count": 13,
      "outputs": [
        {
          "output_type": "execute_result",
          "data": {
            "text/plain": [
              "dtype('float64')"
            ]
          },
          "metadata": {},
          "execution_count": 13
        }
      ]
    },
    {
      "cell_type": "code",
      "source": [
        "# This was for having single row and multiple column. so we need todo for multiple row and multiple column.\n",
        "mx_1s = np.ones((3, 4))\n",
        "print(mx_1s)"
      ],
      "metadata": {
        "colab": {
          "base_uri": "https://localhost:8080/"
        },
        "id": "JF4qX-KNUDTD",
        "outputId": "6c0eb58e-f936-4ac2-de60-1adfd568cb33"
      },
      "execution_count": 16,
      "outputs": [
        {
          "output_type": "stream",
          "name": "stdout",
          "text": [
            "[[1. 1. 1. 1.]\n",
            " [1. 1. 1. 1.]\n",
            " [1. 1. 1. 1.]]\n"
          ]
        }
      ]
    },
    {
      "cell_type": "code",
      "source": [
        "# To change the datatype of the matrix\n",
        "mx_1s = np.ones((3,4), dtype=int)\n",
        "print(mx_1s) "
      ],
      "metadata": {
        "colab": {
          "base_uri": "https://localhost:8080/"
        },
        "id": "tiBh4z5SUxkp",
        "outputId": "bdb14ee0-6f90-4aba-dd4d-4c32bf159632"
      },
      "execution_count": 17,
      "outputs": [
        {
          "output_type": "stream",
          "name": "stdout",
          "text": [
            "[[1 1 1 1]\n",
            " [1 1 1 1]\n",
            " [1 1 1 1]]\n"
          ]
        }
      ]
    },
    {
      "cell_type": "code",
      "source": [
        "# Similarily goes for zeros\n",
        "mx_zeroes = np.zeros((4,6), dtype=int)\n",
        "print(mx_zeroes)"
      ],
      "metadata": {
        "colab": {
          "base_uri": "https://localhost:8080/"
        },
        "id": "Mjlw5GbSWIcv",
        "outputId": "6ca3f74d-d11a-4c5e-d85d-f6646ef56d73"
      },
      "execution_count": 18,
      "outputs": [
        {
          "output_type": "stream",
          "name": "stdout",
          "text": [
            "[[0 0 0 0 0 0]\n",
            " [0 0 0 0 0 0]\n",
            " [0 0 0 0 0 0]\n",
            " [0 0 0 0 0 0]]\n"
          ]
        }
      ]
    },
    {
      "cell_type": "code",
      "source": [
        "# we can convert our datatype to boolean as well\n",
        "mx_zeroes = np.zeros((4,6), dtype=bool)\n",
        "print(mx_zeroes)"
      ],
      "metadata": {
        "colab": {
          "base_uri": "https://localhost:8080/"
        },
        "id": "EjxW7jNUWnJc",
        "outputId": "279b1379-e189-4125-c82c-5c4c159b8085"
      },
      "execution_count": 20,
      "outputs": [
        {
          "output_type": "stream",
          "name": "stdout",
          "text": [
            "[[False False False False False False]\n",
            " [False False False False False False]\n",
            " [False False False False False False]\n",
            " [False False False False False False]]\n"
          ]
        }
      ]
    },
    {
      "cell_type": "code",
      "source": [
        "mx_0s = np.zeros((4,6), dtype=str)\n",
        "print(mx_0s)"
      ],
      "metadata": {
        "colab": {
          "base_uri": "https://localhost:8080/"
        },
        "id": "iD3XiJcRW9cc",
        "outputId": "83ec65d8-99d5-4665-a653-1dcc1b257334"
      },
      "execution_count": 22,
      "outputs": [
        {
          "output_type": "stream",
          "name": "stdout",
          "text": [
            "[['' '' '' '' '' '']\n",
            " ['' '' '' '' '' '']\n",
            " ['' '' '' '' '' '']\n",
            " ['' '' '' '' '' '']]\n"
          ]
        }
      ]
    },
    {
      "cell_type": "code",
      "source": [
        "em_mx = np.empty((3,3))\n",
        "print(em_mx)"
      ],
      "metadata": {
        "colab": {
          "base_uri": "https://localhost:8080/"
        },
        "id": "YWak3d0lXYRL",
        "outputId": "8d310b7b-242c-42fb-a9d6-659093470c7f"
      },
      "execution_count": 23,
      "outputs": [
        {
          "output_type": "stream",
          "name": "stdout",
          "text": [
            "[[0.00000000e+000 2.31297541e-312 6.79038654e-313]\n",
            " [6.79038653e-313 2.37663529e-312 2.14321575e-312]\n",
            " [2.37663529e-312 2.56761491e-312 2.41907520e-312]]\n"
          ]
        }
      ]
    },
    {
      "cell_type": "markdown",
      "source": [
        "# NumPy Functions"
      ],
      "metadata": {
        "id": "QIBsBtoEYsqk"
      }
    },
    {
      "cell_type": "code",
      "source": [
        "# import numpy as np"
      ],
      "metadata": {
        "id": "TVOhqZy6X34T"
      },
      "execution_count": 24,
      "outputs": []
    },
    {
      "cell_type": "markdown",
      "source": [
        "# arange()"
      ],
      "metadata": {
        "id": "eL8G8Vq5ZWJx"
      }
    },
    {
      "cell_type": "code",
      "source": [
        "# np.arange(start, End, steps)\n",
        "ar_1d = np.arange(1, 13)\n",
        "# for even arange\n",
        "even_ar = np.arange(1, 13, 2)\n",
        "print(\"ar_1d = \",ar_1d)\n",
        "print(\"even_ar = \",even_ar)"
      ],
      "metadata": {
        "colab": {
          "base_uri": "https://localhost:8080/"
        },
        "id": "PppwbQw7ZM7A",
        "outputId": "b0968fa8-29a3-47a9-e03c-bfed8a5666d4"
      },
      "execution_count": 35,
      "outputs": [
        {
          "output_type": "stream",
          "name": "stdout",
          "text": [
            "ar_1d =  [ 1  2  3  4  5  6  7  8  9 10 11 12]\n",
            "even_ar =  [ 1  3  5  7  9 11]\n"
          ]
        }
      ]
    },
    {
      "cell_type": "markdown",
      "source": [
        "# linspace()\n"
      ],
      "metadata": {
        "id": "Nt6NudB0ZuG0"
      }
    },
    {
      "cell_type": "code",
      "source": [
        "np.linspace(1,5,4)"
      ],
      "metadata": {
        "colab": {
          "base_uri": "https://localhost:8080/"
        },
        "id": "83tkyY6xZrd5",
        "outputId": "b874b469-0bb6-4ed9-ba5e-b671ba596d26"
      },
      "execution_count": 31,
      "outputs": [
        {
          "output_type": "execute_result",
          "data": {
            "text/plain": [
              "array([1.        , 2.33333333, 3.66666667, 5.        ])"
            ]
          },
          "metadata": {},
          "execution_count": 31
        }
      ]
    },
    {
      "cell_type": "markdown",
      "source": [
        "# reshape()"
      ],
      "metadata": {
        "id": "pnE3yGYnaxO7"
      }
    },
    {
      "cell_type": "code",
      "source": [
        "# to convert 1d array to 2d array\n",
        "ar_2d = ar_1d.reshape(3,4)\n",
        "print(ar_2d)"
      ],
      "metadata": {
        "colab": {
          "base_uri": "https://localhost:8080/"
        },
        "id": "A-Bzzf9iasJW",
        "outputId": "3a633b48-0a49-4bbf-9e0e-f7d17063f33f"
      },
      "execution_count": 39,
      "outputs": [
        {
          "output_type": "stream",
          "name": "stdout",
          "text": [
            "[[ 1  2  3  4]\n",
            " [ 5  6  7  8]\n",
            " [ 9 10 11 12]]\n"
          ]
        }
      ]
    },
    {
      "cell_type": "code",
      "source": [
        ""
      ],
      "metadata": {
        "id": "KsgHOV9gbrNO"
      },
      "execution_count": null,
      "outputs": []
    }
  ]
}