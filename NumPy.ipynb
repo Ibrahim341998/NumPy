{
  "nbformat": 4,
  "nbformat_minor": 0,
  "metadata": {
    "colab": {
      "name": "NumPy.ipynb",
      "provenance": [],
      "authorship_tag": "ABX9TyNMkAXtsd8bXD0oLJzPf2ox",
      "include_colab_link": true
    },
    "kernelspec": {
      "name": "python3",
      "display_name": "Python 3"
    },
    "language_info": {
      "name": "python"
    }
  },
  "cells": [
    {
      "cell_type": "markdown",
      "metadata": {
        "id": "view-in-github",
        "colab_type": "text"
      },
      "source": [
        "<a href=\"https://colab.research.google.com/github/Ibrahim341998/NumPy/blob/main/NumPy.ipynb\" target=\"_parent\"><img src=\"https://colab.research.google.com/assets/colab-badge.svg\" alt=\"Open In Colab\"/></a>"
      ]
    },
    {
      "cell_type": "code",
      "execution_count": 2,
      "metadata": {
        "id": "yiyEYiWbmho_"
      },
      "outputs": [],
      "source": [
        "# To install this library in cmd or apple cmd\n",
        "#pip install numpy"
      ]
    },
    {
      "cell_type": "code",
      "source": [
        "# To import this library\n",
        "import numpy as np\n",
        "\n",
        "# How to create numpy array\n",
        "arr_1d = np.array([1,2,3])\n",
        "print(arr_1d)"
      ],
      "metadata": {
        "colab": {
          "base_uri": "https://localhost:8080/"
        },
        "id": "uwmRtK_tju9w",
        "outputId": "e9965216-a9e4-4fc0-ddd7-6c69f452d6cd"
      },
      "execution_count": 3,
      "outputs": [
        {
          "output_type": "stream",
          "name": "stdout",
          "text": [
            "[1 2 3]\n"
          ]
        }
      ]
    },
    {
      "cell_type": "code",
      "source": [
        ""
      ],
      "metadata": {
        "id": "S8Ot_0vGkc1X"
      },
      "execution_count": null,
      "outputs": []
    }
  ]
}